{
 "cells": [
  {
   "cell_type": "code",
   "execution_count": 4,
   "metadata": {},
   "outputs": [],
   "source": [
    "# imports\n",
    "import pandas as pd\n",
    "from sklearn.preprocessing import OneHotEncoder\n",
    "from datetime import datetime, timedelta"
   ]
  },
  {
   "cell_type": "code",
   "execution_count": 5,
   "metadata": {},
   "outputs": [],
   "source": [
    "vehicles = pd.read_csv('./data/Motor_Vehicle_Collisions_-_Vehicles_20241103.csv', index_col=0, low_memory=False)\n",
    "# vehicles"
   ]
  },
  {
   "cell_type": "code",
   "execution_count": 7,
   "metadata": {},
   "outputs": [
    {
     "name": "stdout",
     "output_type": "stream",
     "text": [
      "<bound method NDFrame.head of            COLLISION_ID  CRASH_DATE CRASH_TIME  \\\n",
      "UNIQUE_ID                                        \n",
      "10385780         100201  09/07/2012       9:03   \n",
      "19140702        4213082  09/23/2019       8:15   \n",
      "14887647        3307608  10/02/2015      17:18   \n",
      "14889754        3308693  10/04/2015      20:34   \n",
      "14400270         297666  04/25/2013      21:15   \n",
      "...                 ...         ...        ...   \n",
      "20774561        4767779  10/27/2024      15:16   \n",
      "20774656        4767855  10/28/2024       7:45   \n",
      "20773672        4767169  10/29/2024       4:25   \n",
      "20774412        4767800  10/24/2024      14:42   \n",
      "20774394        4767691  10/28/2024       8:37   \n",
      "\n",
      "                                     VEHICLE_ID STATE_REGISTRATION  \\\n",
      "UNIQUE_ID                                                            \n",
      "10385780                                      1                 NY   \n",
      "19140702   0553ab4d-9500-4cba-8d98-f4d7f89d5856                 NY   \n",
      "14887647                                      2                 NY   \n",
      "14889754                                      1                 NY   \n",
      "14400270                                      1                 NY   \n",
      "...                                         ...                ...   \n",
      "20774561   499fd474-6f84-47a4-a583-1e28e92cb3ac                NaN   \n",
      "20774656   49fd2b53-2534-4799-9da5-67f745e784f6                 NY   \n",
      "20773672   a52009fc-b711-4ef4-91f3-59959764fef3                 NY   \n",
      "20774412   2b3e54aa-012c-4288-8fcb-f8e89e1925be                 NY   \n",
      "20774394   38efba12-3a2b-453f-84be-196dbc748908                 NY   \n",
      "\n",
      "                                  VEHICLE_TYPE    VEHICLE_MAKE VEHICLE_MODEL  \\\n",
      "UNIQUE_ID                                                                      \n",
      "10385780                     PASSENGER VEHICLE             NaN           NaN   \n",
      "19140702   Station Wagon/Sport Utility Vehicle   TOYT -CAR/SUV           NaN   \n",
      "14887647                                  TAXI             NaN           NaN   \n",
      "14889754                     PASSENGER VEHICLE             NaN           NaN   \n",
      "14400270                     PASSENGER VEHICLE             NaN           NaN   \n",
      "...                                        ...             ...           ...   \n",
      "20774561                                   NaN             NaN           NaN   \n",
      "20774656                                 Sedan   TOYT -CAR/SUV           NaN   \n",
      "20773672   Station Wagon/Sport Utility Vehicle    KIA -CAR/SUV           NaN   \n",
      "20774412                             Box Truck  FORD-TRUCK/BUS           NaN   \n",
      "20774394                                   Bus             NaN           NaN   \n",
      "\n",
      "           VEHICLE_YEAR TRAVEL_DIRECTION  ...             PRE_CRASH  \\\n",
      "UNIQUE_ID                                 ...                         \n",
      "10385780            NaN              NaN  ...                   NaN   \n",
      "19140702         2002.0            North  ...  Going Straight Ahead   \n",
      "14887647            NaN              NaN  ...  Going Straight Ahead   \n",
      "14889754            NaN              NaN  ...                Parked   \n",
      "14400270            NaN              NaN  ...                   NaN   \n",
      "...                 ...              ...  ...                   ...   \n",
      "20774561            NaN             West  ...               Backing   \n",
      "20774656         2017.0             West  ...      Making Left Turn   \n",
      "20773672         2024.0             East  ...                Parked   \n",
      "20774412         2008.0            South  ...      Making Left Turn   \n",
      "20774394         2021.0             East  ...      Making Left Turn   \n",
      "\n",
      "                    POINT_OF_IMPACT             VEHICLE_DAMAGE  \\\n",
      "UNIQUE_ID                                                        \n",
      "10385780                        NaN                        NaN   \n",
      "19140702          Left Front Bumper   Left Front Quarter Panel   \n",
      "14887647                        NaN                        NaN   \n",
      "14889754                        NaN                        NaN   \n",
      "14400270                        NaN                        NaN   \n",
      "...                             ...                        ...   \n",
      "20774561                        NaN                        NaN   \n",
      "20774656            Left Side Doors            Left Side Doors   \n",
      "20773672   Right Rear Quarter Panel   Right Rear Quarter Panel   \n",
      "20774412          Left Front Bumper                  No Damage   \n",
      "20774394           Right Side Doors  Right Front Quarter Panel   \n",
      "\n",
      "                    VEHICLE_DAMAGE_1    VEHICLE_DAMAGE_2  VEHICLE_DAMAGE_3  \\\n",
      "UNIQUE_ID                                                                    \n",
      "10385780                         NaN                 NaN               NaN   \n",
      "19140702                         NaN                 NaN               NaN   \n",
      "14887647                         NaN                 NaN               NaN   \n",
      "14889754                         NaN                 NaN               NaN   \n",
      "14400270                         NaN                 NaN               NaN   \n",
      "...                              ...                 ...               ...   \n",
      "20774561                         NaN                 NaN               NaN   \n",
      "20774656    Left Front Quarter Panel   Left Front Bumper               NaN   \n",
      "20773672   Right Front Quarter Panel  Right Front Bumper  Center Front End   \n",
      "20774412                         NaN                 NaN               NaN   \n",
      "20774394                         NaN                 NaN               NaN   \n",
      "\n",
      "          PUBLIC_PROPERTY_DAMAGE PUBLIC_PROPERTY_DAMAGE_TYPE  \\\n",
      "UNIQUE_ID                                                      \n",
      "10385780                     NaN                         NaN   \n",
      "19140702                       N                         NaN   \n",
      "14887647                     NaN                         NaN   \n",
      "14889754                     NaN                         NaN   \n",
      "14400270                     NaN                         NaN   \n",
      "...                          ...                         ...   \n",
      "20774561             Unspecified                         NaN   \n",
      "20774656                       N                         NaN   \n",
      "20773672                       N                         NaN   \n",
      "20774412                       N                         NaN   \n",
      "20774394                       N                         NaN   \n",
      "\n",
      "                    CONTRIBUTING_FACTOR_1           CONTRIBUTING_FACTOR_2  \n",
      "UNIQUE_ID                                                                  \n",
      "10385780                      Unspecified                             NaN  \n",
      "19140702   Driver Inattention/Distraction                     Unspecified  \n",
      "14887647   Driver Inattention/Distraction                             NaN  \n",
      "14889754                      Unspecified                             NaN  \n",
      "14400270                  Other Vehicular                             NaN  \n",
      "...                                   ...                             ...  \n",
      "20774561                 Backing Unsafely  Driver Inattention/Distraction  \n",
      "20774656      Traffic Control Disregarded                     Unspecified  \n",
      "20773672                      Unspecified                     Unspecified  \n",
      "20774412    Failure to Yield Right-of-Way                     Unspecified  \n",
      "20774394                Oversized Vehicle                     Unspecified  \n",
      "\n",
      "[4277716 rows x 24 columns]>\n"
     ]
    }
   ],
   "source": [
    "# set(vehicles[\"CONTRIBUTING_FACTOR_1\"])\n",
    "print(vehicles.head)"
   ]
  },
  {
   "cell_type": "code",
   "execution_count": 10,
   "metadata": {},
   "outputs": [
    {
     "name": "stdout",
     "output_type": "stream",
     "text": [
      "COLLISION_ID                              100201\n",
      "CRASH_DATE                            09/07/2012\n",
      "CRASH_TIME                                  9:03\n",
      "VEHICLE_ID                                     1\n",
      "STATE_REGISTRATION                            NY\n",
      "VEHICLE_TYPE                   PASSENGER VEHICLE\n",
      "VEHICLE_MAKE                                 NaN\n",
      "VEHICLE_MODEL                                NaN\n",
      "VEHICLE_YEAR                                 NaN\n",
      "TRAVEL_DIRECTION                             NaN\n",
      "VEHICLE_OCCUPANTS                            NaN\n",
      "DRIVER_SEX                                   NaN\n",
      "DRIVER_LICENSE_STATUS                        NaN\n",
      "DRIVER_LICENSE_JURISDICTION                  NaN\n",
      "PRE_CRASH                                    NaN\n",
      "POINT_OF_IMPACT                              NaN\n",
      "VEHICLE_DAMAGE                               NaN\n",
      "VEHICLE_DAMAGE_1                             NaN\n",
      "VEHICLE_DAMAGE_2                             NaN\n",
      "VEHICLE_DAMAGE_3                             NaN\n",
      "PUBLIC_PROPERTY_DAMAGE                       NaN\n",
      "PUBLIC_PROPERTY_DAMAGE_TYPE                  NaN\n",
      "CONTRIBUTING_FACTOR_1                Unspecified\n",
      "CONTRIBUTING_FACTOR_2                        NaN\n",
      "Name: 10385780, dtype: object\n"
     ]
    }
   ],
   "source": [
    "pd.set_option('display.max_columns', None)  # Show all columns\n",
    "pd.set_option('display.max_rows', None)  # Show all rows\n",
    "print(vehicles.iloc[0])"
   ]
  },
  {
   "cell_type": "code",
   "execution_count": 12,
   "metadata": {},
   "outputs": [
    {
     "name": "stdout",
     "output_type": "stream",
     "text": [
      "79572432\n",
      "102665184\n"
     ]
    }
   ],
   "source": [
    "# filter by date \n",
    "cutoff_date = datetime.now() - timedelta(days=10*365)\n",
    "vehicles['CRASH_DATE'] = pd.to_datetime(vehicles['CRASH_DATE'], format='%m/%d/%Y')\n",
    "filtered_vehicles = vehicles[vehicles['CRASH_DATE'] >= cutoff_date]\n",
    "print(filtered_vehicles.size)\n",
    "print(vehicles.size)"
   ]
  },
  {
   "cell_type": "code",
   "execution_count": 14,
   "metadata": {},
   "outputs": [
    {
     "name": "stdout",
     "output_type": "stream",
     "text": [
      "COLLISION_ID                                                4213082\n",
      "CRASH_DATE                                      2019-09-23 00:00:00\n",
      "CRASH_TIME                                                     8:15\n",
      "VEHICLE_ID                     0553ab4d-9500-4cba-8d98-f4d7f89d5856\n",
      "STATE_REGISTRATION                                               NY\n",
      "VEHICLE_TYPE                    Station Wagon/Sport Utility Vehicle\n",
      "VEHICLE_MAKE                                          TOYT -CAR/SUV\n",
      "VEHICLE_MODEL                                                   NaN\n",
      "VEHICLE_YEAR                                                 2002.0\n",
      "TRAVEL_DIRECTION                                              North\n",
      "VEHICLE_OCCUPANTS                                               1.0\n",
      "DRIVER_SEX                                                        M\n",
      "DRIVER_LICENSE_STATUS                                      Licensed\n",
      "DRIVER_LICENSE_JURISDICTION                                      NY\n",
      "PRE_CRASH                                      Going Straight Ahead\n",
      "POINT_OF_IMPACT                                   Left Front Bumper\n",
      "VEHICLE_DAMAGE                             Left Front Quarter Panel\n",
      "VEHICLE_DAMAGE_1                                                NaN\n",
      "VEHICLE_DAMAGE_2                                                NaN\n",
      "VEHICLE_DAMAGE_3                                                NaN\n",
      "PUBLIC_PROPERTY_DAMAGE                                            N\n",
      "PUBLIC_PROPERTY_DAMAGE_TYPE                                     NaN\n",
      "CONTRIBUTING_FACTOR_1                Driver Inattention/Distraction\n",
      "CONTRIBUTING_FACTOR_2                                   Unspecified\n",
      "Name: 19140702, dtype: object\n"
     ]
    }
   ],
   "source": [
    "print(filtered_vehicles.iloc[0])"
   ]
  },
  {
   "cell_type": "code",
   "execution_count": null,
   "metadata": {},
   "outputs": [],
   "source": [
    "copy_vehicles = filtered_vehicles.copy()\n",
    "copy_vehicles"
   ]
  },
  {
   "cell_type": "code",
   "execution_count": null,
   "metadata": {},
   "outputs": [],
   "source": [
    "copy_vehicles.columns"
   ]
  },
  {
   "cell_type": "markdown",
   "metadata": {},
   "source": [
    "#### ** TODO: **\n",
    "Clean up columns\n",
    "* Separate CRASH_DATE into 3 date fields, year, month day ✔\n",
    "* Find out if date is a holiday?\n",
    "* TRAVEL_DIRECTION ✔\n",
    "* CONTRIBUTING_FACTOR_1, 2\n",
    "* STATE_REGISTRATION ✔\n",
    "* VEHICLE_DAMAGE, (20 features), maybe add  _1, _2, _3"
   ]
  },
  {
   "cell_type": "code",
   "execution_count": null,
   "metadata": {},
   "outputs": [],
   "source": [
    "copy_vehicles[\"TRAVEL_DIRECTION\"] = copy_vehicles[\"TRAVEL_DIRECTION\"].replace('E', \"East\").replace('N', \"North\").replace('S', 'South').replace('W', 'West').replace('U', 'Unknown').replace('-', 'Unknown')\n",
    "copy_vehicles[\"TRAVEL_DIRECTION\"]= copy_vehicles[\"TRAVEL_DIRECTION\"].fillna('Unknown')"
   ]
  },
  {
   "cell_type": "code",
   "execution_count": null,
   "metadata": {},
   "outputs": [],
   "source": [
    "# set(copy_vehicles[\"TRAVEL_DIRECTION\"])"
   ]
  },
  {
   "cell_type": "code",
   "execution_count": null,
   "metadata": {},
   "outputs": [],
   "source": [
    "for col in copy_vehicles.columns:\n",
    "    print(col)\n",
    "    print(copy_vehicles[col].unique())"
   ]
  },
  {
   "cell_type": "code",
   "execution_count": null,
   "metadata": {},
   "outputs": [],
   "source": [
    "if 'TRAVEL_DIRECTION' in copy_vehicles.columns:\n",
    "    encoder = OneHotEncoder(sparse_output=False)\n",
    "    encoded_data = encoder.fit_transform(copy_vehicles[[\"TRAVEL_DIRECTION\"]])\n",
    "    encoded_df = pd.DataFrame(encoded_data, columns=encoder.get_feature_names_out([\"TRAVEL_DIRECTION\"]))\n",
    "    copy_vehicles = pd.concat([copy_vehicles.drop(columns=[\"TRAVEL_DIRECTION\"]).reset_index(drop=True), encoded_df.reset_index(drop=True)], axis=1)\n"
   ]
  },
  {
   "cell_type": "code",
   "execution_count": null,
   "metadata": {},
   "outputs": [],
   "source": [
    "if 'STATE_REGISTRATION' in copy_vehicles.columns:\n",
    "    encoder = OneHotEncoder(sparse_output=False)\n",
    "    encoded_data = encoder.fit_transform(copy_vehicles[[\"STATE_REGISTRATION\"]])\n",
    "    encoded_df = pd.DataFrame(encoded_data, columns=encoder.get_feature_names_out([\"STATE_REGISTRATION\"]))\n",
    "    copy_vehicles = pd.concat([copy_vehicles.drop(columns=[\"STATE_REGISTRATION\"]).reset_index(drop=True), encoded_df.reset_index(drop=True)], axis=1)"
   ]
  },
  {
   "cell_type": "code",
   "execution_count": null,
   "metadata": {},
   "outputs": [],
   "source": [
    "if 'CONTRIBUTING_FACTOR_1' in copy_vehicles.columns:\n",
    "    encoder = OneHotEncoder(sparse_output=False)\n",
    "    encoded_data = encoder.fit_transform(copy_vehicles[[\"CONTRIBUTING_FACTOR_1\"]])\n",
    "    encoded_df = pd.DataFrame(encoded_data, columns=encoder.get_feature_names_out([\"CONTRIBUTING_FACTOR_1\"]))\n",
    "    copy_vehicles = pd.concat([copy_vehicles.drop(columns=[\"CONTRIBUTING_FACTOR_1\"]).reset_index(drop=True), encoded_df.reset_index(drop=True)], axis=1)"
   ]
  },
  {
   "cell_type": "code",
   "execution_count": null,
   "metadata": {},
   "outputs": [],
   "source": [
    "if 'VEHICLE_DAMAGE' in copy_vehicles.columns:\n",
    "    encoder = OneHotEncoder(sparse_output=False)\n",
    "    encoded_data = encoder.fit_transform(copy_vehicles[[\"VEHICLE_DAMAGE\"]])\n",
    "    encoded_df = pd.DataFrame(encoded_data, columns=encoder.get_feature_names_out([\"VEHICLE_DAMAGE\"]))\n",
    "    copy_vehicles = pd.concat([copy_vehicles.drop(columns=[\"VEHICLE_DAMAGE\"]).reset_index(drop=True), encoded_df.reset_index(drop=True)], axis=1)"
   ]
  },
  {
   "cell_type": "code",
   "execution_count": null,
   "metadata": {},
   "outputs": [],
   "source": [
    "# DROP VEHICLE_ID\n",
    "copy_vehicles"
   ]
  },
  {
   "cell_type": "code",
   "execution_count": null,
   "metadata": {},
   "outputs": [],
   "source": [
    "# Add dates to separate fields\n",
    "copy_vehicles[\"CRASH_DATE\"] = pd.to_datetime(copy_vehicles[\"CRASH_DATE\"], format='%m/%d/%Y')\n",
    "copy_vehicles[\"CRASH_DATE_YEAR\"] = copy_vehicles[\"CRASH_DATE\"].dt.year\n",
    "copy_vehicles[\"CRASH_DATE_MONTH\"] = copy_vehicles[\"CRASH_DATE\"].dt.month\n",
    "copy_vehicles[\"CRASH_DATE_DAY\"] = copy_vehicles[\"CRASH_DATE\"].dt.day\n",
    "copy_vehicles"
   ]
  },
  {
   "cell_type": "code",
   "execution_count": null,
   "metadata": {},
   "outputs": [],
   "source": [
    "# Drop bad columns\n",
    "if 'STATE_REGISTRATION_nan' in copy_vehicles.columns:\n",
    "    copy_vehicles = copy_vehicles.drop(columns=[\"STATE_REGISTRATION_nan\"])\n",
    "if 'CONTRIBUTING_FACTOR_1_nan' in copy_vehicles.columns:\n",
    "    copy_vehicles = copy_vehicles.drop(columns=[\"CONTRIBUTING_FACTOR_1_nan\"])\n",
    "if 'VEHICLE_DAMAGE_nan' in copy_vehicles.columns:\n",
    "    copy_vehicles = copy_vehicles.drop(columns=[\"VEHICLE_DAMAGE_nan\"])\n",
    "\n",
    "# remove? CONTRIBUTING_FACTOR_1_1, CONTRIBUTING_FACTOR_1_80"
   ]
  },
  {
   "cell_type": "code",
   "execution_count": null,
   "metadata": {},
   "outputs": [],
   "source": [
    "set(copy_vehicles.columns)"
   ]
  },
  {
   "cell_type": "code",
   "execution_count": null,
   "metadata": {},
   "outputs": [],
   "source": [
    "set(copy_vehicles[\"VEHICLE_OCCUPANTS\"])"
   ]
  },
  {
   "cell_type": "code",
   "execution_count": null,
   "metadata": {},
   "outputs": [],
   "source": [
    "print(copy_vehicles.iloc[0])"
   ]
  },
  {
   "cell_type": "markdown",
   "metadata": {},
   "source": [
    "TODO\n",
    "* Drop vehicle year > year +2\n",
    "* Drop vehicles older than 1970\n",
    "* Determine vehicle type from description fields\n",
    "* Cast VEHICLE_OCCUPANTS to int\n",
    "* Drop invalid options (state=ZZ)"
   ]
  }
 ],
 "metadata": {
  "kernelspec": {
   "display_name": "Python 3 (ipykernel)",
   "language": "python",
   "name": "python3"
  },
  "language_info": {
   "codemirror_mode": {
    "name": "ipython",
    "version": 3
   },
   "file_extension": ".py",
   "mimetype": "text/x-python",
   "name": "python",
   "nbconvert_exporter": "python",
   "pygments_lexer": "ipython3",
   "version": "3.12.4"
  }
 },
 "nbformat": 4,
 "nbformat_minor": 4
}
